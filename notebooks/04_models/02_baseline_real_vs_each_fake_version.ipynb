{
 "cells": [
  {
   "cell_type": "code",
   "execution_count": 1,
   "id": "0a6eb460-0812-4b24-8a67-7cc9d8f96166",
   "metadata": {},
   "outputs": [],
   "source": [
    "%load_ext autoreload\n",
    "%autoreload 2"
   ]
  },
  {
   "cell_type": "code",
   "execution_count": 2,
   "id": "7d09ccb4-bb27-4182-9b66-071f1f6fc79e",
   "metadata": {},
   "outputs": [],
   "source": [
    "import mlflow\n",
    "import mlflow.sklearn"
   ]
  },
  {
   "cell_type": "code",
   "execution_count": 3,
   "id": "c9750591-54fe-4616-a1f2-f9a8ac63d9b8",
   "metadata": {},
   "outputs": [],
   "source": [
    "import os\n",
    "import librosa\n",
    "import numpy as np\n",
    "import pandas as pd\n",
    "\n",
    "from sklearn.model_selection import train_test_split\n",
    "from sklearn.preprocessing import StandardScaler\n",
    "from sklearn.linear_model import LogisticRegression\n",
    "\n",
    "from sklearn.metrics import (\n",
    "    precision_score, \n",
    "    recall_score, \n",
    "    f1_score, \n",
    "    roc_auc_score, \n",
    "    accuracy_score, \n",
    "    classification_report, \n",
    "    confusion_matrix, \n",
    "    RocCurveDisplay\n",
    ")\n",
    "import matplotlib.pyplot as plt\n",
    "\n",
    "from sklearn.model_selection import train_test_split\n",
    "from sklearn.linear_model import LogisticRegression\n",
    "from sklearn.ensemble import RandomForestClassifier\n",
    "\n",
    "\n",
    "\n",
    "\n",
    "\n",
    "import matplotlib.pyplot as plt\n",
    "import seaborn as sns\n",
    "\n",
    "from tqdm import tqdm\n",
    "from joblib import Parallel, delayed\n",
    "\n",
    "\n",
    "\n",
    "from utils import load_config\n",
    "from models.baseline import preprocess_data"
   ]
  },
  {
   "cell_type": "code",
   "execution_count": 4,
   "id": "551ae51d-7b8c-4aaa-b5bc-af408ef289ac",
   "metadata": {},
   "outputs": [],
   "source": [
    "config       = load_config()\n",
    "features_dir = config['data_paths']['features']\n",
    "features_csv = os.path.join(features_dir, 'all_features.csv')"
   ]
  },
  {
   "cell_type": "markdown",
   "id": "5871719f",
   "metadata": {},
   "source": [
    "### Load features"
   ]
  },
  {
   "cell_type": "code",
   "execution_count": 8,
   "id": "b8f15e0e-db6d-493d-9fc4-bf7465f87611",
   "metadata": {},
   "outputs": [
    {
     "data": {
      "text/html": [
       "<div>\n",
       "<style scoped>\n",
       "    .dataframe tbody tr th:only-of-type {\n",
       "        vertical-align: middle;\n",
       "    }\n",
       "\n",
       "    .dataframe tbody tr th {\n",
       "        vertical-align: top;\n",
       "    }\n",
       "\n",
       "    .dataframe thead th {\n",
       "        text-align: right;\n",
       "    }\n",
       "</style>\n",
       "<table border=\"1\" class=\"dataframe\">\n",
       "  <thead>\n",
       "    <tr style=\"text-align: right;\">\n",
       "      <th></th>\n",
       "      <th>audio_id</th>\n",
       "      <th>real_or_fake</th>\n",
       "      <th>spectral_centroid_mean</th>\n",
       "      <th>spectral_centroid_std</th>\n",
       "      <th>spectral_centroid_var</th>\n",
       "      <th>spectral_centroid_min</th>\n",
       "      <th>spectral_centroid_max</th>\n",
       "      <th>spectral_centroid_range</th>\n",
       "      <th>spectral_centroid_25th_percentile</th>\n",
       "      <th>spectral_centroid_50th_percentile</th>\n",
       "      <th>...</th>\n",
       "      <th>shimmer_dda</th>\n",
       "      <th>hnr</th>\n",
       "      <th>voicedcount</th>\n",
       "      <th>npause</th>\n",
       "      <th>originaldur</th>\n",
       "      <th>intensity_duration</th>\n",
       "      <th>speakingrate</th>\n",
       "      <th>articulationrate</th>\n",
       "      <th>asd</th>\n",
       "      <th>totalpauseduration</th>\n",
       "    </tr>\n",
       "  </thead>\n",
       "  <tbody>\n",
       "    <tr>\n",
       "      <th>0</th>\n",
       "      <td>LJ028-0143</td>\n",
       "      <td>WF1</td>\n",
       "      <td>1874.133940</td>\n",
       "      <td>1345.530923</td>\n",
       "      <td>1.810453e+06</td>\n",
       "      <td>526.534014</td>\n",
       "      <td>6285.029512</td>\n",
       "      <td>5758.495498</td>\n",
       "      <td>975.050304</td>\n",
       "      <td>1345.562364</td>\n",
       "      <td>...</td>\n",
       "      <td>0.099888</td>\n",
       "      <td>11.673236</td>\n",
       "      <td>32.0</td>\n",
       "      <td>2.0</td>\n",
       "      <td>7.360726</td>\n",
       "      <td>7.360726</td>\n",
       "      <td>4.347397</td>\n",
       "      <td>4.925558</td>\n",
       "      <td>0.203023</td>\n",
       "      <td>0.864</td>\n",
       "    </tr>\n",
       "    <tr>\n",
       "      <th>1</th>\n",
       "      <td>LJ028-0143</td>\n",
       "      <td>WF2</td>\n",
       "      <td>1896.024231</td>\n",
       "      <td>1357.514810</td>\n",
       "      <td>1.842846e+06</td>\n",
       "      <td>585.883222</td>\n",
       "      <td>6304.308256</td>\n",
       "      <td>5718.425035</td>\n",
       "      <td>985.413912</td>\n",
       "      <td>1390.383399</td>\n",
       "      <td>...</td>\n",
       "      <td>0.096005</td>\n",
       "      <td>12.024721</td>\n",
       "      <td>29.0</td>\n",
       "      <td>2.0</td>\n",
       "      <td>7.360726</td>\n",
       "      <td>7.360726</td>\n",
       "      <td>3.939829</td>\n",
       "      <td>4.463787</td>\n",
       "      <td>0.224025</td>\n",
       "      <td>0.864</td>\n",
       "    </tr>\n",
       "    <tr>\n",
       "      <th>2</th>\n",
       "      <td>LJ028-0143</td>\n",
       "      <td>WF3</td>\n",
       "      <td>1918.827899</td>\n",
       "      <td>1370.524166</td>\n",
       "      <td>1.878336e+06</td>\n",
       "      <td>550.249874</td>\n",
       "      <td>6265.837711</td>\n",
       "      <td>5715.587837</td>\n",
       "      <td>1007.631444</td>\n",
       "      <td>1414.627604</td>\n",
       "      <td>...</td>\n",
       "      <td>0.111386</td>\n",
       "      <td>11.691639</td>\n",
       "      <td>30.0</td>\n",
       "      <td>2.0</td>\n",
       "      <td>7.349116</td>\n",
       "      <td>7.349116</td>\n",
       "      <td>4.082124</td>\n",
       "      <td>4.614593</td>\n",
       "      <td>0.216704</td>\n",
       "      <td>0.848</td>\n",
       "    </tr>\n",
       "    <tr>\n",
       "      <th>3</th>\n",
       "      <td>LJ028-0143</td>\n",
       "      <td>WF4</td>\n",
       "      <td>1871.877706</td>\n",
       "      <td>1335.658077</td>\n",
       "      <td>1.783982e+06</td>\n",
       "      <td>515.918819</td>\n",
       "      <td>6277.746003</td>\n",
       "      <td>5761.827184</td>\n",
       "      <td>974.725797</td>\n",
       "      <td>1356.723998</td>\n",
       "      <td>...</td>\n",
       "      <td>0.088301</td>\n",
       "      <td>12.341544</td>\n",
       "      <td>33.0</td>\n",
       "      <td>2.0</td>\n",
       "      <td>7.360726</td>\n",
       "      <td>7.360726</td>\n",
       "      <td>4.483254</td>\n",
       "      <td>5.079482</td>\n",
       "      <td>0.196870</td>\n",
       "      <td>0.864</td>\n",
       "    </tr>\n",
       "    <tr>\n",
       "      <th>4</th>\n",
       "      <td>LJ028-0143</td>\n",
       "      <td>WF5</td>\n",
       "      <td>1939.824198</td>\n",
       "      <td>1358.239585</td>\n",
       "      <td>1.844815e+06</td>\n",
       "      <td>555.707767</td>\n",
       "      <td>6259.423582</td>\n",
       "      <td>5703.715815</td>\n",
       "      <td>1010.880341</td>\n",
       "      <td>1418.982549</td>\n",
       "      <td>...</td>\n",
       "      <td>0.109853</td>\n",
       "      <td>11.311680</td>\n",
       "      <td>32.0</td>\n",
       "      <td>2.0</td>\n",
       "      <td>7.360726</td>\n",
       "      <td>7.360726</td>\n",
       "      <td>4.347397</td>\n",
       "      <td>4.925558</td>\n",
       "      <td>0.203023</td>\n",
       "      <td>0.864</td>\n",
       "    </tr>\n",
       "  </tbody>\n",
       "</table>\n",
       "<p>5 rows × 410 columns</p>\n",
       "</div>"
      ],
      "text/plain": [
       "     audio_id real_or_fake  spectral_centroid_mean  spectral_centroid_std  \\\n",
       "0  LJ028-0143          WF1             1874.133940            1345.530923   \n",
       "1  LJ028-0143          WF2             1896.024231            1357.514810   \n",
       "2  LJ028-0143          WF3             1918.827899            1370.524166   \n",
       "3  LJ028-0143          WF4             1871.877706            1335.658077   \n",
       "4  LJ028-0143          WF5             1939.824198            1358.239585   \n",
       "\n",
       "   spectral_centroid_var  spectral_centroid_min  spectral_centroid_max  \\\n",
       "0           1.810453e+06             526.534014            6285.029512   \n",
       "1           1.842846e+06             585.883222            6304.308256   \n",
       "2           1.878336e+06             550.249874            6265.837711   \n",
       "3           1.783982e+06             515.918819            6277.746003   \n",
       "4           1.844815e+06             555.707767            6259.423582   \n",
       "\n",
       "   spectral_centroid_range  spectral_centroid_25th_percentile  \\\n",
       "0              5758.495498                         975.050304   \n",
       "1              5718.425035                         985.413912   \n",
       "2              5715.587837                        1007.631444   \n",
       "3              5761.827184                         974.725797   \n",
       "4              5703.715815                        1010.880341   \n",
       "\n",
       "   spectral_centroid_50th_percentile  ...  shimmer_dda        hnr  \\\n",
       "0                        1345.562364  ...     0.099888  11.673236   \n",
       "1                        1390.383399  ...     0.096005  12.024721   \n",
       "2                        1414.627604  ...     0.111386  11.691639   \n",
       "3                        1356.723998  ...     0.088301  12.341544   \n",
       "4                        1418.982549  ...     0.109853  11.311680   \n",
       "\n",
       "   voicedcount  npause  originaldur  intensity_duration  speakingrate  \\\n",
       "0         32.0     2.0     7.360726            7.360726      4.347397   \n",
       "1         29.0     2.0     7.360726            7.360726      3.939829   \n",
       "2         30.0     2.0     7.349116            7.349116      4.082124   \n",
       "3         33.0     2.0     7.360726            7.360726      4.483254   \n",
       "4         32.0     2.0     7.360726            7.360726      4.347397   \n",
       "\n",
       "   articulationrate       asd  totalpauseduration  \n",
       "0          4.925558  0.203023               0.864  \n",
       "1          4.463787  0.224025               0.864  \n",
       "2          4.614593  0.216704               0.848  \n",
       "3          5.079482  0.196870               0.864  \n",
       "4          4.925558  0.203023               0.864  \n",
       "\n",
       "[5 rows x 410 columns]"
      ]
     },
     "execution_count": 8,
     "metadata": {},
     "output_type": "execute_result"
    }
   ],
   "source": [
    "features_df = pd.read_csv(features_csv)\n",
    "features_df.head()"
   ]
  },
  {
   "cell_type": "code",
   "execution_count": 14,
   "id": "45885420",
   "metadata": {},
   "outputs": [],
   "source": [
    "selected_features = ['spectral_contrast_var', 'spectral_contrast_range', 'spectral_contrast_mean', 'F3_mean', 'F2_stdev', 'F3_stdev', 'F1_stdev', 'mfcc_13_std', 'F2_mean', 'mfcc_6_75th_percentile', 'mfcc_12_75th_percentile', 'mfcc_9_75th_percentile', 'mfcc_3_75th_percentile', 'mfcc_12_50th_percentile', 'mfcc_9_50th_percentile', 'mfcc_2_50th_percentile', 'mfcc_5_50th_percentile', 'mfcc_7_50th_percentile', 'f0_skew', 'pause_std', 'asd', 'pause_75th_percentile', 'chroma_11_50th_percentile', 'chroma_3_50th_percentile', 'chroma_6_50th_percentile', 'spectral_flux_skew', 'mfcc_12_25th_percentile', 'mfcc_6_25th_percentile', 'mfcc_2_25th_percentile', 'spectral_bandwidth_min', 'zero_crossing_rate_skew', 'chroma_1_range', 'speaking_rate', 'chroma_12_range', 'chroma_2_range', 'chroma_3_range', 'chroma_5_range', 'chroma_10_range', 'spectral_flatness_skew', 'chroma_6_range', 'chroma_8_range', 'chroma_7_range', 'chroma_9_range', 'f0_kurtosis', 'chroma_11_range', 'spectral_bandwidth_kurtosis', 'chroma_6_max', 'chroma_10_max', 'chroma_2_max', 'chroma_12_max', 'chroma_5_max', 'chroma_7_max', 'chroma_4_max', 'chroma_1_max', 'chroma_11_max', 'chroma_4_std', 'chroma_6_std', 'chroma_7_std', 'chroma_3_max', 'chroma_12_std', 'chroma_11_std', 'chroma_2_std', 'chroma_10_std', 'chroma_3_std', 'chroma_9_std', 'chroma_8_std', 'chroma_5_std', 'chroma_1_std', 'zero_crossing_rate_range', 'mfcc_1_skew', 'spectral_rolloff_range', 'f0_25th_percentile', 'pause_skew', 'chroma_9_min', 'mfcc_13_mean', 'mfcc_11_mean', 'zero_crossing_rate_min', 'spectral_bandwidth_max', 'mfcc_10_max', 'f0_75th_percentile', 'mfcc_5_max', 'mfcc_6_mean', 'mfcc_3_max', 'jitter_local', 'spectral_flux_25th_percentile', 'spectral_flatness_min', 'energy_min', 'shimmer_local', 'spectral_flatness_range']\n",
    "features_df = features_df[['audio_id'] + selected_features + ['real_or_fake']].copy()"
   ]
  },
  {
   "cell_type": "code",
   "execution_count": 9,
   "id": "64cc2001",
   "metadata": {},
   "outputs": [],
   "source": [
    "def train_eval_model(model, model_name, X_train, X_test, y_train, y_test):\n",
    "    run_name = f\"{model_name}_run\"\n",
    "    with mlflow.start_run(run_name=run_name):\n",
    "        # Log model name\n",
    "        mlflow.log_param(\"model\", model_name)\n",
    "\n",
    "        # Train the model\n",
    "        model.fit(X_train, y_train)\n",
    "\n",
    "        # Make predictions and evaluate the model\n",
    "        predictions = model.predict(X_test)\n",
    "        probabilities = model.predict_proba(X_test)[:, 1]  # probabilities for the positive class\n",
    "\n",
    "        # Calculate metrics\n",
    "        accuracy = accuracy_score(y_test, predictions)\n",
    "        precision = precision_score(y_test, predictions)\n",
    "        recall = recall_score(y_test, predictions)\n",
    "        f1 = f1_score(y_test, predictions)\n",
    "        roc_auc = roc_auc_score(y_test, probabilities)\n",
    "\n",
    "        # Log metrics\n",
    "        mlflow.log_metrics({\n",
    "            \"accuracy\": accuracy,\n",
    "            \"precision\": precision,\n",
    "            \"recall\": recall,\n",
    "            \"f1_score\": f1,\n",
    "            \"roc_auc\": roc_auc\n",
    "        })\n",
    "\n",
    "        # Save and log classification report as text file\n",
    "        report = classification_report(y_test, predictions)\n",
    "        print(report)\n",
    "        with open(\"classification_report.txt\", \"w\") as f:\n",
    "            f.write(report)\n",
    "        mlflow.log_artifact(\"classification_report.txt\")\n",
    "\n",
    "        # Plot and log confusion matrix as an image\n",
    "        cm = confusion_matrix(y_test, predictions)\n",
    "        plt.figure(figsize=(10, 7))\n",
    "        sns.heatmap(cm, annot=True, fmt='d', cmap='Blues')\n",
    "        plt.title('Confusion Matrix')\n",
    "        plt.ylabel('Actual label')\n",
    "        plt.xlabel('Predicted label')\n",
    "        confusion_matrix_path = \"confusion_matrix.png\"\n",
    "        plt.savefig(confusion_matrix_path)\n",
    "        mlflow.log_artifact(confusion_matrix_path)\n",
    "        plt.close()\n",
    "\n",
    "        # Plot ROC curve\n",
    "        fig, ax = plt.subplots()\n",
    "        RocCurveDisplay.from_predictions(y_test, probabilities, ax=ax)\n",
    "        plt.title('ROC Curve')\n",
    "        mlflow.log_figure(fig, \"roc_curve.png\")\n",
    "        plt.close(fig)\n",
    "\n",
    "        print(f\"Run Name: {run_name} | Model: {model_name} | Accuracy: {accuracy:.4f} | Precision: {precision:.4f} | Recall: {recall:.4f} | F1 Score: {f1:.4f} | ROC AUC: {roc_auc:.4f}\")\n"
   ]
  },
  {
   "cell_type": "code",
   "execution_count": 13,
   "id": "1bd3b59f",
   "metadata": {},
   "outputs": [],
   "source": [
    "## codecfake fake versions vs R"
   ]
  },
  {
   "cell_type": "code",
   "execution_count": 17,
   "id": "1ffa5181-ee7f-4627-b0fc-1160b69a5f11",
   "metadata": {
    "scrolled": false
   },
   "outputs": [
    {
     "name": "stderr",
     "output_type": "stream",
     "text": [
      "2024/08/12 10:46:01 INFO mlflow.tracking._tracking_service.client: 🏃 View run logistic_regression_F01_run at: http://mlflow:5001/#/experiments/213449315161875335/runs/e16fdffeb0174b97b04219aa9c78af80.\n",
      "2024/08/12 10:46:01 INFO mlflow.tracking._tracking_service.client: 🧪 View experiment at: http://mlflow:5001/#/experiments/213449315161875335.\n"
     ]
    },
    {
     "name": "stdout",
     "output_type": "stream",
     "text": [
      "              precision    recall  f1-score   support\n",
      "\n",
      "           0       1.00      1.00      1.00      9651\n",
      "           1       1.00      1.00      1.00      7031\n",
      "\n",
      "    accuracy                           1.00     16682\n",
      "   macro avg       1.00      1.00      1.00     16682\n",
      "weighted avg       1.00      1.00      1.00     16682\n",
      "\n",
      "Run Name: logistic_regression_F01_run | Model: logistic_regression_F01 | Accuracy: 1.0000 | Precision: 1.0000 | Recall: 1.0000 | F1 Score: 1.0000 | ROC AUC: 1.0000\n"
     ]
    },
    {
     "name": "stderr",
     "output_type": "stream",
     "text": [
      "2024/08/12 10:46:15 INFO mlflow.tracking._tracking_service.client: 🏃 View run random_forest_F01_run at: http://mlflow:5001/#/experiments/213449315161875335/runs/d64efda13fbf4b4b9aea83be7186354a.\n",
      "2024/08/12 10:46:15 INFO mlflow.tracking._tracking_service.client: 🧪 View experiment at: http://mlflow:5001/#/experiments/213449315161875335.\n"
     ]
    },
    {
     "name": "stdout",
     "output_type": "stream",
     "text": [
      "              precision    recall  f1-score   support\n",
      "\n",
      "           0       1.00      1.00      1.00      9651\n",
      "           1       1.00      1.00      1.00      7031\n",
      "\n",
      "    accuracy                           1.00     16682\n",
      "   macro avg       1.00      1.00      1.00     16682\n",
      "weighted avg       1.00      1.00      1.00     16682\n",
      "\n",
      "Run Name: random_forest_F01_run | Model: random_forest_F01 | Accuracy: 1.0000 | Precision: 1.0000 | Recall: 1.0000 | F1 Score: 1.0000 | ROC AUC: 1.0000\n"
     ]
    },
    {
     "name": "stderr",
     "output_type": "stream",
     "text": [
      "2024/08/12 10:46:16 INFO mlflow.tracking._tracking_service.client: 🏃 View run logistic_regression_F02_run at: http://mlflow:5001/#/experiments/213449315161875335/runs/4c609c88cacd4f73851c94ea145fef78.\n",
      "2024/08/12 10:46:16 INFO mlflow.tracking._tracking_service.client: 🧪 View experiment at: http://mlflow:5001/#/experiments/213449315161875335.\n"
     ]
    },
    {
     "name": "stdout",
     "output_type": "stream",
     "text": [
      "              precision    recall  f1-score   support\n",
      "\n",
      "           0       1.00      1.00      1.00      9651\n",
      "           1       1.00      1.00      1.00      7031\n",
      "\n",
      "    accuracy                           1.00     16682\n",
      "   macro avg       1.00      1.00      1.00     16682\n",
      "weighted avg       1.00      1.00      1.00     16682\n",
      "\n",
      "Run Name: logistic_regression_F02_run | Model: logistic_regression_F02 | Accuracy: 1.0000 | Precision: 1.0000 | Recall: 1.0000 | F1 Score: 1.0000 | ROC AUC: 1.0000\n"
     ]
    },
    {
     "name": "stderr",
     "output_type": "stream",
     "text": [
      "2024/08/12 10:46:29 INFO mlflow.tracking._tracking_service.client: 🏃 View run random_forest_F02_run at: http://mlflow:5001/#/experiments/213449315161875335/runs/08457127d1b94faabe4297b97a3baad2.\n",
      "2024/08/12 10:46:29 INFO mlflow.tracking._tracking_service.client: 🧪 View experiment at: http://mlflow:5001/#/experiments/213449315161875335.\n"
     ]
    },
    {
     "name": "stdout",
     "output_type": "stream",
     "text": [
      "              precision    recall  f1-score   support\n",
      "\n",
      "           0       1.00      1.00      1.00      9651\n",
      "           1       1.00      1.00      1.00      7031\n",
      "\n",
      "    accuracy                           1.00     16682\n",
      "   macro avg       1.00      1.00      1.00     16682\n",
      "weighted avg       1.00      1.00      1.00     16682\n",
      "\n",
      "Run Name: random_forest_F02_run | Model: random_forest_F02 | Accuracy: 1.0000 | Precision: 1.0000 | Recall: 1.0000 | F1 Score: 1.0000 | ROC AUC: 1.0000\n"
     ]
    },
    {
     "name": "stderr",
     "output_type": "stream",
     "text": [
      "2024/08/12 10:46:29 INFO mlflow.tracking._tracking_service.client: 🏃 View run logistic_regression_F03_run at: http://mlflow:5001/#/experiments/213449315161875335/runs/bd91ee22dfcd40e18faddaefdd1a12fe.\n",
      "2024/08/12 10:46:29 INFO mlflow.tracking._tracking_service.client: 🧪 View experiment at: http://mlflow:5001/#/experiments/213449315161875335.\n"
     ]
    },
    {
     "name": "stdout",
     "output_type": "stream",
     "text": [
      "              precision    recall  f1-score   support\n",
      "\n",
      "           0       1.00      1.00      1.00      9651\n",
      "           1       1.00      1.00      1.00      7031\n",
      "\n",
      "    accuracy                           1.00     16682\n",
      "   macro avg       1.00      1.00      1.00     16682\n",
      "weighted avg       1.00      1.00      1.00     16682\n",
      "\n",
      "Run Name: logistic_regression_F03_run | Model: logistic_regression_F03 | Accuracy: 1.0000 | Precision: 1.0000 | Recall: 1.0000 | F1 Score: 1.0000 | ROC AUC: 1.0000\n"
     ]
    },
    {
     "name": "stderr",
     "output_type": "stream",
     "text": [
      "2024/08/12 10:46:45 INFO mlflow.tracking._tracking_service.client: 🏃 View run random_forest_F03_run at: http://mlflow:5001/#/experiments/213449315161875335/runs/fda675424813481eacf6a6a8ef0604e5.\n",
      "2024/08/12 10:46:45 INFO mlflow.tracking._tracking_service.client: 🧪 View experiment at: http://mlflow:5001/#/experiments/213449315161875335.\n"
     ]
    },
    {
     "name": "stdout",
     "output_type": "stream",
     "text": [
      "              precision    recall  f1-score   support\n",
      "\n",
      "           0       1.00      1.00      1.00      9651\n",
      "           1       1.00      1.00      1.00      7031\n",
      "\n",
      "    accuracy                           1.00     16682\n",
      "   macro avg       1.00      1.00      1.00     16682\n",
      "weighted avg       1.00      1.00      1.00     16682\n",
      "\n",
      "Run Name: random_forest_F03_run | Model: random_forest_F03 | Accuracy: 1.0000 | Precision: 1.0000 | Recall: 1.0000 | F1 Score: 1.0000 | ROC AUC: 1.0000\n"
     ]
    },
    {
     "name": "stderr",
     "output_type": "stream",
     "text": [
      "2024/08/12 10:46:46 INFO mlflow.tracking._tracking_service.client: 🏃 View run logistic_regression_F04_run at: http://mlflow:5001/#/experiments/213449315161875335/runs/fa0fbb7d1551487c8d631af1cf1c9fc7.\n",
      "2024/08/12 10:46:46 INFO mlflow.tracking._tracking_service.client: 🧪 View experiment at: http://mlflow:5001/#/experiments/213449315161875335.\n"
     ]
    },
    {
     "name": "stdout",
     "output_type": "stream",
     "text": [
      "              precision    recall  f1-score   support\n",
      "\n",
      "           0       0.98      0.98      0.98      9651\n",
      "           1       0.98      0.97      0.98      7031\n",
      "\n",
      "    accuracy                           0.98     16682\n",
      "   macro avg       0.98      0.98      0.98     16682\n",
      "weighted avg       0.98      0.98      0.98     16682\n",
      "\n",
      "Run Name: logistic_regression_F04_run | Model: logistic_regression_F04 | Accuracy: 0.9790 | Precision: 0.9762 | Recall: 0.9740 | F1 Score: 0.9751 | ROC AUC: 0.9977\n",
      "              precision    recall  f1-score   support\n",
      "\n",
      "           0       0.97      0.98      0.98      9651\n",
      "           1       0.97      0.96      0.97      7031\n",
      "\n",
      "    accuracy                           0.97     16682\n",
      "   macro avg       0.97      0.97      0.97     16682\n",
      "weighted avg       0.97      0.97      0.97     16682\n",
      "\n"
     ]
    },
    {
     "name": "stderr",
     "output_type": "stream",
     "text": [
      "2024/08/12 10:47:25 INFO mlflow.tracking._tracking_service.client: 🏃 View run random_forest_F04_run at: http://mlflow:5001/#/experiments/213449315161875335/runs/c5047096622f4ac08e6be598d33e05ed.\n",
      "2024/08/12 10:47:25 INFO mlflow.tracking._tracking_service.client: 🧪 View experiment at: http://mlflow:5001/#/experiments/213449315161875335.\n"
     ]
    },
    {
     "name": "stdout",
     "output_type": "stream",
     "text": [
      "Run Name: random_forest_F04_run | Model: random_forest_F04 | Accuracy: 0.9727 | Precision: 0.9738 | Recall: 0.9610 | F1 Score: 0.9674 | ROC AUC: 0.9969\n"
     ]
    },
    {
     "name": "stderr",
     "output_type": "stream",
     "text": [
      "2024/08/12 10:47:26 INFO mlflow.tracking._tracking_service.client: 🏃 View run logistic_regression_F05_run at: http://mlflow:5001/#/experiments/213449315161875335/runs/f4cecacd46e545cb8b6f82b4e18c5288.\n",
      "2024/08/12 10:47:26 INFO mlflow.tracking._tracking_service.client: 🧪 View experiment at: http://mlflow:5001/#/experiments/213449315161875335.\n"
     ]
    },
    {
     "name": "stdout",
     "output_type": "stream",
     "text": [
      "              precision    recall  f1-score   support\n",
      "\n",
      "           0       0.87      0.85      0.86      9651\n",
      "           1       0.80      0.82      0.81      7031\n",
      "\n",
      "    accuracy                           0.84     16682\n",
      "   macro avg       0.83      0.83      0.83     16682\n",
      "weighted avg       0.84      0.84      0.84     16682\n",
      "\n",
      "Run Name: logistic_regression_F05_run | Model: logistic_regression_F05 | Accuracy: 0.8364 | Precision: 0.7976 | Recall: 0.8197 | F1 Score: 0.8085 | ROC AUC: 0.9164\n"
     ]
    },
    {
     "name": "stderr",
     "output_type": "stream",
     "text": [
      "2024/08/12 10:48:04 INFO mlflow.tracking._tracking_service.client: 🏃 View run random_forest_F05_run at: http://mlflow:5001/#/experiments/213449315161875335/runs/987bbb92d9bc4706b16c7ca24c4887ff.\n",
      "2024/08/12 10:48:04 INFO mlflow.tracking._tracking_service.client: 🧪 View experiment at: http://mlflow:5001/#/experiments/213449315161875335.\n"
     ]
    },
    {
     "name": "stdout",
     "output_type": "stream",
     "text": [
      "              precision    recall  f1-score   support\n",
      "\n",
      "           0       0.85      0.83      0.84      9651\n",
      "           1       0.77      0.80      0.78      7031\n",
      "\n",
      "    accuracy                           0.81     16682\n",
      "   macro avg       0.81      0.81      0.81     16682\n",
      "weighted avg       0.82      0.81      0.81     16682\n",
      "\n",
      "Run Name: random_forest_F05_run | Model: random_forest_F05 | Accuracy: 0.8139 | Precision: 0.7688 | Recall: 0.7985 | F1 Score: 0.7834 | ROC AUC: 0.8962\n"
     ]
    },
    {
     "name": "stderr",
     "output_type": "stream",
     "text": [
      "2024/08/12 10:48:05 INFO mlflow.tracking._tracking_service.client: 🏃 View run logistic_regression_F06_run at: http://mlflow:5001/#/experiments/213449315161875335/runs/76b004393ede4f9bb5045ed4af8f0405.\n",
      "2024/08/12 10:48:05 INFO mlflow.tracking._tracking_service.client: 🧪 View experiment at: http://mlflow:5001/#/experiments/213449315161875335.\n"
     ]
    },
    {
     "name": "stdout",
     "output_type": "stream",
     "text": [
      "              precision    recall  f1-score   support\n",
      "\n",
      "           0       1.00      1.00      1.00      9651\n",
      "           1       1.00      1.00      1.00      7031\n",
      "\n",
      "    accuracy                           1.00     16682\n",
      "   macro avg       1.00      1.00      1.00     16682\n",
      "weighted avg       1.00      1.00      1.00     16682\n",
      "\n",
      "Run Name: logistic_regression_F06_run | Model: logistic_regression_F06 | Accuracy: 1.0000 | Precision: 1.0000 | Recall: 1.0000 | F1 Score: 1.0000 | ROC AUC: 1.0000\n"
     ]
    },
    {
     "name": "stderr",
     "output_type": "stream",
     "text": [
      "2024/08/12 10:48:21 INFO mlflow.tracking._tracking_service.client: 🏃 View run random_forest_F06_run at: http://mlflow:5001/#/experiments/213449315161875335/runs/e5a8bca377ea404e8f9024b1f544f1c9.\n",
      "2024/08/12 10:48:21 INFO mlflow.tracking._tracking_service.client: 🧪 View experiment at: http://mlflow:5001/#/experiments/213449315161875335.\n"
     ]
    },
    {
     "name": "stdout",
     "output_type": "stream",
     "text": [
      "              precision    recall  f1-score   support\n",
      "\n",
      "           0       1.00      1.00      1.00      9651\n",
      "           1       1.00      1.00      1.00      7031\n",
      "\n",
      "    accuracy                           1.00     16682\n",
      "   macro avg       1.00      1.00      1.00     16682\n",
      "weighted avg       1.00      1.00      1.00     16682\n",
      "\n",
      "Run Name: random_forest_F06_run | Model: random_forest_F06 | Accuracy: 1.0000 | Precision: 1.0000 | Recall: 1.0000 | F1 Score: 1.0000 | ROC AUC: 1.0000\n"
     ]
    },
    {
     "name": "stderr",
     "output_type": "stream",
     "text": [
      "2024/08/12 10:48:22 INFO mlflow.tracking._tracking_service.client: 🏃 View run logistic_regression_WF1_run at: http://mlflow:5001/#/experiments/213449315161875335/runs/f28e80fbc45b44dea21f265795c366ba.\n",
      "2024/08/12 10:48:22 INFO mlflow.tracking._tracking_service.client: 🧪 View experiment at: http://mlflow:5001/#/experiments/213449315161875335.\n"
     ]
    },
    {
     "name": "stdout",
     "output_type": "stream",
     "text": [
      "              precision    recall  f1-score   support\n",
      "\n",
      "           0       0.96      0.96      0.96      9651\n",
      "           1       0.86      0.87      0.86      2620\n",
      "\n",
      "    accuracy                           0.94     12271\n",
      "   macro avg       0.91      0.91      0.91     12271\n",
      "weighted avg       0.94      0.94      0.94     12271\n",
      "\n",
      "Run Name: logistic_regression_WF1_run | Model: logistic_regression_WF1 | Accuracy: 0.9422 | Precision: 0.8634 | Recall: 0.8664 | F1 Score: 0.8649 | ROC AUC: 0.9825\n"
     ]
    },
    {
     "name": "stderr",
     "output_type": "stream",
     "text": [
      "2024/08/12 10:48:39 INFO mlflow.tracking._tracking_service.client: 🏃 View run random_forest_WF1_run at: http://mlflow:5001/#/experiments/213449315161875335/runs/7ea89012ed9344119fb6499dfbe50426.\n",
      "2024/08/12 10:48:39 INFO mlflow.tracking._tracking_service.client: 🧪 View experiment at: http://mlflow:5001/#/experiments/213449315161875335.\n"
     ]
    },
    {
     "name": "stdout",
     "output_type": "stream",
     "text": [
      "              precision    recall  f1-score   support\n",
      "\n",
      "           0       0.96      0.96      0.96      9651\n",
      "           1       0.85      0.85      0.85      2620\n",
      "\n",
      "    accuracy                           0.94     12271\n",
      "   macro avg       0.90      0.90      0.90     12271\n",
      "weighted avg       0.94      0.94      0.94     12271\n",
      "\n",
      "Run Name: random_forest_WF1_run | Model: random_forest_WF1 | Accuracy: 0.9351 | Precision: 0.8484 | Recall: 0.8477 | F1 Score: 0.8480 | ROC AUC: 0.9804\n"
     ]
    },
    {
     "name": "stderr",
     "output_type": "stream",
     "text": [
      "2024/08/12 10:48:40 INFO mlflow.tracking._tracking_service.client: 🏃 View run logistic_regression_WF2_run at: http://mlflow:5001/#/experiments/213449315161875335/runs/872c7cfab5db47e3b41a23b26c83f706.\n",
      "2024/08/12 10:48:40 INFO mlflow.tracking._tracking_service.client: 🧪 View experiment at: http://mlflow:5001/#/experiments/213449315161875335.\n"
     ]
    },
    {
     "name": "stdout",
     "output_type": "stream",
     "text": [
      "              precision    recall  f1-score   support\n",
      "\n",
      "           0       0.96      0.95      0.95      9651\n",
      "           1       0.83      0.84      0.83      2620\n",
      "\n",
      "    accuracy                           0.93     12271\n",
      "   macro avg       0.89      0.89      0.89     12271\n",
      "weighted avg       0.93      0.93      0.93     12271\n",
      "\n",
      "Run Name: logistic_regression_WF2_run | Model: logistic_regression_WF2 | Accuracy: 0.9277 | Precision: 0.8269 | Recall: 0.8366 | F1 Score: 0.8317 | ROC AUC: 0.9742\n"
     ]
    },
    {
     "name": "stderr",
     "output_type": "stream",
     "text": [
      "2024/08/12 10:48:56 INFO mlflow.tracking._tracking_service.client: 🏃 View run random_forest_WF2_run at: http://mlflow:5001/#/experiments/213449315161875335/runs/18482cd7bcd746c9adeb788e98e0b8a3.\n",
      "2024/08/12 10:48:56 INFO mlflow.tracking._tracking_service.client: 🧪 View experiment at: http://mlflow:5001/#/experiments/213449315161875335.\n"
     ]
    },
    {
     "name": "stdout",
     "output_type": "stream",
     "text": [
      "              precision    recall  f1-score   support\n",
      "\n",
      "           0       0.94      0.94      0.94      9651\n",
      "           1       0.78      0.76      0.77      2620\n",
      "\n",
      "    accuracy                           0.90     12271\n",
      "   macro avg       0.86      0.85      0.85     12271\n",
      "weighted avg       0.90      0.90      0.90     12271\n",
      "\n",
      "Run Name: random_forest_WF2_run | Model: random_forest_WF2 | Accuracy: 0.9035 | Precision: 0.7820 | Recall: 0.7599 | F1 Score: 0.7708 | ROC AUC: 0.9603\n",
      "              precision    recall  f1-score   support\n",
      "\n",
      "           0       0.95      0.95      0.95      9651\n",
      "           1       0.81      0.83      0.82      2620\n",
      "\n",
      "    accuracy                           0.92     12271\n",
      "   macro avg       0.88      0.89      0.89     12271\n",
      "weighted avg       0.92      0.92      0.92     12271\n",
      "\n"
     ]
    },
    {
     "name": "stderr",
     "output_type": "stream",
     "text": [
      "2024/08/12 10:48:57 INFO mlflow.tracking._tracking_service.client: 🏃 View run logistic_regression_WF3_run at: http://mlflow:5001/#/experiments/213449315161875335/runs/7ac8d93f32d748d68d9d4cf0ae7ad1de.\n",
      "2024/08/12 10:48:57 INFO mlflow.tracking._tracking_service.client: 🧪 View experiment at: http://mlflow:5001/#/experiments/213449315161875335.\n"
     ]
    },
    {
     "name": "stdout",
     "output_type": "stream",
     "text": [
      "Run Name: logistic_regression_WF3_run | Model: logistic_regression_WF3 | Accuracy: 0.9232 | Precision: 0.8144 | Recall: 0.8290 | F1 Score: 0.8216 | ROC AUC: 0.9726\n"
     ]
    },
    {
     "name": "stderr",
     "output_type": "stream",
     "text": [
      "2024/08/12 10:49:14 INFO mlflow.tracking._tracking_service.client: 🏃 View run random_forest_WF3_run at: http://mlflow:5001/#/experiments/213449315161875335/runs/2b952683ccd0483c8ec42ed2104058f8.\n",
      "2024/08/12 10:49:14 INFO mlflow.tracking._tracking_service.client: 🧪 View experiment at: http://mlflow:5001/#/experiments/213449315161875335.\n"
     ]
    },
    {
     "name": "stdout",
     "output_type": "stream",
     "text": [
      "              precision    recall  f1-score   support\n",
      "\n",
      "           0       0.94      0.94      0.94      9651\n",
      "           1       0.79      0.78      0.79      2620\n",
      "\n",
      "    accuracy                           0.91     12271\n",
      "   macro avg       0.87      0.86      0.87     12271\n",
      "weighted avg       0.91      0.91      0.91     12271\n",
      "\n",
      "Run Name: random_forest_WF3_run | Model: random_forest_WF3 | Accuracy: 0.9108 | Precision: 0.7947 | Recall: 0.7847 | F1 Score: 0.7897 | ROC AUC: 0.9645\n"
     ]
    },
    {
     "name": "stderr",
     "output_type": "stream",
     "text": [
      "2024/08/12 10:49:15 INFO mlflow.tracking._tracking_service.client: 🏃 View run logistic_regression_WF4_run at: http://mlflow:5001/#/experiments/213449315161875335/runs/9e3b9b1953f8426ba9c3c78d6ba94c68.\n",
      "2024/08/12 10:49:15 INFO mlflow.tracking._tracking_service.client: 🧪 View experiment at: http://mlflow:5001/#/experiments/213449315161875335.\n"
     ]
    },
    {
     "name": "stdout",
     "output_type": "stream",
     "text": [
      "              precision    recall  f1-score   support\n",
      "\n",
      "           0       0.97      0.96      0.96      9651\n",
      "           1       0.86      0.88      0.87      2620\n",
      "\n",
      "    accuracy                           0.94     12271\n",
      "   macro avg       0.91      0.92      0.91     12271\n",
      "weighted avg       0.94      0.94      0.94     12271\n",
      "\n",
      "Run Name: logistic_regression_WF4_run | Model: logistic_regression_WF4 | Accuracy: 0.9418 | Precision: 0.8551 | Recall: 0.8760 | F1 Score: 0.8654 | ROC AUC: 0.9825\n"
     ]
    },
    {
     "name": "stderr",
     "output_type": "stream",
     "text": [
      "2024/08/12 10:49:31 INFO mlflow.tracking._tracking_service.client: 🏃 View run random_forest_WF4_run at: http://mlflow:5001/#/experiments/213449315161875335/runs/093c4fa3d84a411caa74a84af2c33e60.\n",
      "2024/08/12 10:49:31 INFO mlflow.tracking._tracking_service.client: 🧪 View experiment at: http://mlflow:5001/#/experiments/213449315161875335.\n"
     ]
    },
    {
     "name": "stdout",
     "output_type": "stream",
     "text": [
      "              precision    recall  f1-score   support\n",
      "\n",
      "           0       0.96      0.96      0.96      9651\n",
      "           1       0.85      0.86      0.86      2620\n",
      "\n",
      "    accuracy                           0.94     12271\n",
      "   macro avg       0.91      0.91      0.91     12271\n",
      "weighted avg       0.94      0.94      0.94     12271\n",
      "\n",
      "Run Name: random_forest_WF4_run | Model: random_forest_WF4 | Accuracy: 0.9380 | Precision: 0.8533 | Recall: 0.8569 | F1 Score: 0.8551 | ROC AUC: 0.9813\n"
     ]
    },
    {
     "name": "stderr",
     "output_type": "stream",
     "text": [
      "2024/08/12 10:49:32 INFO mlflow.tracking._tracking_service.client: 🏃 View run logistic_regression_WF5_run at: http://mlflow:5001/#/experiments/213449315161875335/runs/0c03d9c271a54078b34eea75649ddf99.\n",
      "2024/08/12 10:49:32 INFO mlflow.tracking._tracking_service.client: 🧪 View experiment at: http://mlflow:5001/#/experiments/213449315161875335.\n"
     ]
    },
    {
     "name": "stdout",
     "output_type": "stream",
     "text": [
      "              precision    recall  f1-score   support\n",
      "\n",
      "           0       0.98      0.97      0.98      9651\n",
      "           1       0.91      0.92      0.91      2620\n",
      "\n",
      "    accuracy                           0.96     12271\n",
      "   macro avg       0.94      0.95      0.95     12271\n",
      "weighted avg       0.96      0.96      0.96     12271\n",
      "\n",
      "Run Name: logistic_regression_WF5_run | Model: logistic_regression_WF5 | Accuracy: 0.9629 | Precision: 0.9083 | Recall: 0.9191 | F1 Score: 0.9137 | ROC AUC: 0.9912\n"
     ]
    },
    {
     "name": "stderr",
     "output_type": "stream",
     "text": [
      "2024/08/12 10:49:50 INFO mlflow.tracking._tracking_service.client: 🏃 View run random_forest_WF5_run at: http://mlflow:5001/#/experiments/213449315161875335/runs/254dff748d6a40f0bb2d85ed1d6843fc.\n",
      "2024/08/12 10:49:50 INFO mlflow.tracking._tracking_service.client: 🧪 View experiment at: http://mlflow:5001/#/experiments/213449315161875335.\n"
     ]
    },
    {
     "name": "stdout",
     "output_type": "stream",
     "text": [
      "              precision    recall  f1-score   support\n",
      "\n",
      "           0       0.97      0.96      0.96      9651\n",
      "           1       0.87      0.88      0.87      2620\n",
      "\n",
      "    accuracy                           0.94     12271\n",
      "   macro avg       0.92      0.92      0.92     12271\n",
      "weighted avg       0.95      0.94      0.95     12271\n",
      "\n",
      "Run Name: random_forest_WF5_run | Model: random_forest_WF5 | Accuracy: 0.9449 | Precision: 0.8676 | Recall: 0.8756 | F1 Score: 0.8716 | ROC AUC: 0.9850\n"
     ]
    },
    {
     "name": "stderr",
     "output_type": "stream",
     "text": [
      "2024/08/12 10:49:50 INFO mlflow.tracking._tracking_service.client: 🏃 View run logistic_regression_WF6_run at: http://mlflow:5001/#/experiments/213449315161875335/runs/6b66d1733a2b4522a2b5623d4e2ae723.\n",
      "2024/08/12 10:49:50 INFO mlflow.tracking._tracking_service.client: 🧪 View experiment at: http://mlflow:5001/#/experiments/213449315161875335.\n"
     ]
    },
    {
     "name": "stdout",
     "output_type": "stream",
     "text": [
      "              precision    recall  f1-score   support\n",
      "\n",
      "           0       0.97      0.97      0.97      9651\n",
      "           1       0.89      0.90      0.90      2620\n",
      "\n",
      "    accuracy                           0.96     12271\n",
      "   macro avg       0.93      0.94      0.94     12271\n",
      "weighted avg       0.96      0.96      0.96     12271\n",
      "\n",
      "Run Name: logistic_regression_WF6_run | Model: logistic_regression_WF6 | Accuracy: 0.9562 | Precision: 0.8944 | Recall: 0.9015 | F1 Score: 0.8979 | ROC AUC: 0.9888\n"
     ]
    },
    {
     "name": "stderr",
     "output_type": "stream",
     "text": [
      "2024/08/12 10:50:06 INFO mlflow.tracking._tracking_service.client: 🏃 View run random_forest_WF6_run at: http://mlflow:5001/#/experiments/213449315161875335/runs/8ab69bdb164b4814bd6a0cc7088dd172.\n",
      "2024/08/12 10:50:06 INFO mlflow.tracking._tracking_service.client: 🧪 View experiment at: http://mlflow:5001/#/experiments/213449315161875335.\n"
     ]
    },
    {
     "name": "stdout",
     "output_type": "stream",
     "text": [
      "              precision    recall  f1-score   support\n",
      "\n",
      "           0       0.96      0.97      0.97      9651\n",
      "           1       0.88      0.87      0.87      2620\n",
      "\n",
      "    accuracy                           0.95     12271\n",
      "   macro avg       0.92      0.92      0.92     12271\n",
      "weighted avg       0.95      0.95      0.95     12271\n",
      "\n",
      "Run Name: random_forest_WF6_run | Model: random_forest_WF6 | Accuracy: 0.9457 | Precision: 0.8787 | Recall: 0.8653 | F1 Score: 0.8719 | ROC AUC: 0.9850\n"
     ]
    },
    {
     "name": "stderr",
     "output_type": "stream",
     "text": [
      "2024/08/12 10:50:07 INFO mlflow.tracking._tracking_service.client: 🏃 View run logistic_regression_WF7_run at: http://mlflow:5001/#/experiments/213449315161875335/runs/7e53b55d1cea42868a2d713760bfb414.\n",
      "2024/08/12 10:50:07 INFO mlflow.tracking._tracking_service.client: 🧪 View experiment at: http://mlflow:5001/#/experiments/213449315161875335.\n"
     ]
    },
    {
     "name": "stdout",
     "output_type": "stream",
     "text": [
      "              precision    recall  f1-score   support\n",
      "\n",
      "           0       0.99      0.99      0.99      9651\n",
      "           1       0.95      0.96      0.96      2620\n",
      "\n",
      "    accuracy                           0.98     12271\n",
      "   macro avg       0.97      0.97      0.97     12271\n",
      "weighted avg       0.98      0.98      0.98     12271\n",
      "\n",
      "Run Name: logistic_regression_WF7_run | Model: logistic_regression_WF7 | Accuracy: 0.9818 | Precision: 0.9545 | Recall: 0.9607 | F1 Score: 0.9576 | ROC AUC: 0.9970\n"
     ]
    },
    {
     "name": "stderr",
     "output_type": "stream",
     "text": [
      "2024/08/12 10:50:22 INFO mlflow.tracking._tracking_service.client: 🏃 View run random_forest_WF7_run at: http://mlflow:5001/#/experiments/213449315161875335/runs/f2f27a70fb7843a784f17b30bbac1994.\n",
      "2024/08/12 10:50:22 INFO mlflow.tracking._tracking_service.client: 🧪 View experiment at: http://mlflow:5001/#/experiments/213449315161875335.\n"
     ]
    },
    {
     "name": "stdout",
     "output_type": "stream",
     "text": [
      "              precision    recall  f1-score   support\n",
      "\n",
      "           0       0.98      0.98      0.98      9651\n",
      "           1       0.93      0.93      0.93      2620\n",
      "\n",
      "    accuracy                           0.97     12271\n",
      "   macro avg       0.96      0.96      0.96     12271\n",
      "weighted avg       0.97      0.97      0.97     12271\n",
      "\n",
      "Run Name: random_forest_WF7_run | Model: random_forest_WF7 | Accuracy: 0.9703 | Precision: 0.9299 | Recall: 0.9313 | F1 Score: 0.9306 | ROC AUC: 0.9942\n"
     ]
    }
   ],
   "source": [
    "for fake_version in ['F01', 'F02', 'F03', 'F04', 'F05', 'F06', 'WF1', 'WF2', 'WF3', 'WF4', 'WF5', 'WF6', 'WF7']:\n",
    "    f_df = features_df[features_df['real_or_fake'].isin(['R', fake_version])].copy()\n",
    "    f_df.loc[:, 'target'] = f_df['real_or_fake'].apply(lambda x: 0 if x == 'R' else 1)\n",
    "\n",
    "    ## MLflow\n",
    "    mlflow.set_tracking_uri(\"http://mlflow:5001\")\n",
    "    mlflow.set_experiment('model_training')\n",
    "\n",
    "    ## Setup for training & evaluation\n",
    "    features_columns = [col for col in f_df.columns if col not in ['audio_id', 'real_or_fake', 'target']]\n",
    "    X = f_df[features_columns]\n",
    "    X = preprocess_data(X)\n",
    "    y = f_df['target']\n",
    "\n",
    "    # Split the data into train and test sets\n",
    "    X_train, X_test, y_train, y_test = train_test_split(X, y, test_size=0.2, random_state=42, stratify=y)\n",
    "\n",
    "    # Logistic Regression\n",
    "    log_reg = LogisticRegression(max_iter=1000)\n",
    "    train_eval_model(log_reg, f\"logistic_regression_{fake_version}\", X_train, X_test, y_train, y_test)\n",
    "\n",
    "    # Random Forest\n",
    "    random_forest = RandomForestClassifier(n_estimators=100)\n",
    "    train_eval_model(random_forest, f\"random_forest_{fake_version}\", X_train, X_test, y_train, y_test)"
   ]
  },
  {
   "cell_type": "code",
   "execution_count": null,
   "id": "6c23e3bf",
   "metadata": {},
   "outputs": [],
   "source": []
  },
  {
   "cell_type": "code",
   "execution_count": null,
   "id": "2dd32410-b221-4b5a-977c-e1bd112dea37",
   "metadata": {},
   "outputs": [],
   "source": []
  },
  {
   "cell_type": "code",
   "execution_count": 11,
   "id": "b95e49d1",
   "metadata": {},
   "outputs": [],
   "source": []
  },
  {
   "cell_type": "code",
   "execution_count": null,
   "id": "b886acdf",
   "metadata": {},
   "outputs": [],
   "source": []
  },
  {
   "cell_type": "code",
   "execution_count": null,
   "id": "3fd68fac-b3b8-43be-b18d-cf541c28792e",
   "metadata": {},
   "outputs": [],
   "source": []
  },
  {
   "cell_type": "code",
   "execution_count": null,
   "id": "970d33cb-ee9a-48d7-8613-816aa8893716",
   "metadata": {},
   "outputs": [],
   "source": []
  },
  {
   "cell_type": "code",
   "execution_count": null,
   "id": "cad19be5-b6ce-48a5-8960-ec69f14d741d",
   "metadata": {},
   "outputs": [],
   "source": []
  }
 ],
 "metadata": {
  "kernelspec": {
   "display_name": "Python 3 (ipykernel)",
   "language": "python",
   "name": "python3"
  },
  "language_info": {
   "codemirror_mode": {
    "name": "ipython",
    "version": 3
   },
   "file_extension": ".py",
   "mimetype": "text/x-python",
   "name": "python",
   "nbconvert_exporter": "python",
   "pygments_lexer": "ipython3",
   "version": "3.9.19"
  }
 },
 "nbformat": 4,
 "nbformat_minor": 5
}
