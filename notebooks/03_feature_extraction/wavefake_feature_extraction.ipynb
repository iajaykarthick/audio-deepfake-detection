{
 "cells": [
  {
   "cell_type": "code",
   "execution_count": 1,
   "id": "b7eab900-1e72-43de-9264-ed2b4342c0f2",
   "metadata": {},
   "outputs": [],
   "source": [
    "%load_ext autoreload\n",
    "%autoreload 2"
   ]
  },
  {
   "cell_type": "code",
   "execution_count": 2,
   "id": "494bdf5c-6631-4ffb-985d-b484fa3c9fb9",
   "metadata": {},
   "outputs": [],
   "source": [
    "import os\n",
    "\n",
    "import numpy as np\n",
    "import pandas as pd\n",
    "\n",
    "from tqdm import tqdm\n",
    "from joblib import Parallel, delayed"
   ]
  },
  {
   "cell_type": "code",
   "execution_count": 3,
   "id": "33b84c1f-50dc-4edb-8bb3-640a03fafa3c",
   "metadata": {},
   "outputs": [],
   "source": [
    "from utils import load_config, perform_statistical_tests\n",
    "from data.load.data_loader import get_wavefake_audio_id_list, load_parquet_data\n",
    "from features import (\n",
    "    LowLevelFeatureExtractor, \n",
    "    HighLevelFeatureExtractor, \n",
    "    plot_low_level_feature_dist, \n",
    "    plot_high_level_feature_dist, \n",
    "    perform_pca_and_plot\n",
    ")"
   ]
  },
  {
   "cell_type": "code",
   "execution_count": 4,
   "id": "1191c7f1-85bb-4b93-abf6-4d0826a54241",
   "metadata": {},
   "outputs": [],
   "source": [
    "config    = load_config()\n",
    "cache_dir = config['data_paths']['wavefake']['cache_files']\n",
    "features_dir = config['data_paths']['features']\n",
    "audio_ids = get_wavefake_audio_id_list()"
   ]
  },
  {
   "cell_type": "code",
   "execution_count": 5,
   "id": "b3e0650a-143f-48dc-a7eb-5acb4f218c4e",
   "metadata": {},
   "outputs": [
    {
     "data": {
      "text/plain": [
       "13100"
      ]
     },
     "execution_count": 5,
     "metadata": {},
     "output_type": "execute_result"
    }
   ],
   "source": [
    "len(audio_ids)"
   ]
  },
  {
   "cell_type": "markdown",
   "id": "f8982296-1ef5-492f-b69d-7c4008135f3f",
   "metadata": {},
   "source": [
    "#### Codecfake - Partitions: 0, 1, ... 130"
   ]
  },
  {
   "cell_type": "markdown",
   "id": "010716f7-e656-453a-92bd-b1c0cf4ffc52",
   "metadata": {},
   "source": [
    "ajay: np.arange(0, 35) --> 0, 1, ..., 34\n",
    "\n",
    "keerthana: np.arange(35, 67) --> 35, 36, ..., 66\n",
    "\n",
    "Ruohe: np.arange(67, 99) --> 67, 68, ..., 98\n",
    "\n",
    "Prudhvi: np.arange(99, 131) --> 99, 100, ..., 130"
   ]
  },
  {
   "cell_type": "code",
   "execution_count": 6,
   "id": "1a22f3de-34a4-4d7a-ae06-df8537c25112",
   "metadata": {},
   "outputs": [
    {
     "data": {
      "text/plain": [
       "32"
      ]
     },
     "execution_count": 6,
     "metadata": {},
     "output_type": "execute_result"
    }
   ],
   "source": [
    "partitions = np.arange(67, 99)\n",
    "len(partitions)"
   ]
  },
  {
   "cell_type": "code",
   "execution_count": 7,
   "id": "f765ee08-aaad-4475-affc-90132744cbb3",
   "metadata": {},
   "outputs": [],
   "source": [
    "def generate_dataframe(iterable_ds):\n",
    "    rows = []\n",
    "    for audio in iterable_ds:\n",
    "        audio_id  = audio['audio_id']\n",
    "        audio_arr = audio['audio']['array']\n",
    "        srate     = audio['audio']['sampling_rate']\n",
    "        real_fake = audio['real_or_fake']\n",
    "    \n",
    "        rows.append({\n",
    "            'audio_id': audio_id,\n",
    "            'audio_arr': audio_arr,\n",
    "            'srate': srate,\n",
    "            'real_or_fake': real_fake\n",
    "        })\n",
    "    df = pd.DataFrame(rows)\n",
    "    return df"
   ]
  },
  {
   "cell_type": "code",
   "execution_count": 8,
   "id": "72b873d7-5c95-4517-817d-a874fbf47a32",
   "metadata": {},
   "outputs": [
    {
     "data": {
      "text/html": [
       "<div>\n",
       "<style scoped>\n",
       "    .dataframe tbody tr th:only-of-type {\n",
       "        vertical-align: middle;\n",
       "    }\n",
       "\n",
       "    .dataframe tbody tr th {\n",
       "        vertical-align: top;\n",
       "    }\n",
       "\n",
       "    .dataframe thead th {\n",
       "        text-align: right;\n",
       "    }\n",
       "</style>\n",
       "<table border=\"1\" class=\"dataframe\">\n",
       "  <thead>\n",
       "    <tr style=\"text-align: right;\">\n",
       "      <th></th>\n",
       "      <th>audio_id</th>\n",
       "      <th>audio_arr</th>\n",
       "      <th>srate</th>\n",
       "      <th>real_or_fake</th>\n",
       "    </tr>\n",
       "  </thead>\n",
       "  <tbody>\n",
       "    <tr>\n",
       "      <th>0</th>\n",
       "      <td>LJ024-0106</td>\n",
       "      <td>[0.000244140625, -0.000213623046875, -0.000793...</td>\n",
       "      <td>22050</td>\n",
       "      <td>WF1</td>\n",
       "    </tr>\n",
       "    <tr>\n",
       "      <th>1</th>\n",
       "      <td>LJ024-0106</td>\n",
       "      <td>[0.00030517578125, -0.000152587890625, -0.0005...</td>\n",
       "      <td>22050</td>\n",
       "      <td>WF2</td>\n",
       "    </tr>\n",
       "    <tr>\n",
       "      <th>2</th>\n",
       "      <td>LJ024-0106</td>\n",
       "      <td>[0.000579833984375, 0.000701904296875, 6.10351...</td>\n",
       "      <td>22050</td>\n",
       "      <td>WF3</td>\n",
       "    </tr>\n",
       "    <tr>\n",
       "      <th>3</th>\n",
       "      <td>LJ024-0106</td>\n",
       "      <td>[-0.001983642578125, -0.00189208984375, -0.001...</td>\n",
       "      <td>22050</td>\n",
       "      <td>WF4</td>\n",
       "    </tr>\n",
       "    <tr>\n",
       "      <th>4</th>\n",
       "      <td>LJ024-0106</td>\n",
       "      <td>[6.103515625e-05, -0.00042724609375, 0.0003051...</td>\n",
       "      <td>22050</td>\n",
       "      <td>WF5</td>\n",
       "    </tr>\n",
       "    <tr>\n",
       "      <th>...</th>\n",
       "      <td>...</td>\n",
       "      <td>...</td>\n",
       "      <td>...</td>\n",
       "      <td>...</td>\n",
       "    </tr>\n",
       "    <tr>\n",
       "      <th>795</th>\n",
       "      <td>LJ025-0062</td>\n",
       "      <td>[-0.001312255859375, -0.001251220703125, -0.00...</td>\n",
       "      <td>22050</td>\n",
       "      <td>WF4</td>\n",
       "    </tr>\n",
       "    <tr>\n",
       "      <th>796</th>\n",
       "      <td>LJ025-0062</td>\n",
       "      <td>[0.0, 9.1552734375e-05, 0.00042724609375, 0.00...</td>\n",
       "      <td>22050</td>\n",
       "      <td>WF5</td>\n",
       "    </tr>\n",
       "    <tr>\n",
       "      <th>797</th>\n",
       "      <td>LJ025-0062</td>\n",
       "      <td>[-0.003021240234375, -0.00238037109375, -0.003...</td>\n",
       "      <td>22050</td>\n",
       "      <td>WF6</td>\n",
       "    </tr>\n",
       "    <tr>\n",
       "      <th>798</th>\n",
       "      <td>LJ025-0062</td>\n",
       "      <td>[-0.0003662109375, -0.0003662109375, -0.000579...</td>\n",
       "      <td>22050</td>\n",
       "      <td>WF7</td>\n",
       "    </tr>\n",
       "    <tr>\n",
       "      <th>799</th>\n",
       "      <td>LJ025-0062</td>\n",
       "      <td>[0.0003662109375, 0.000244140625, 0.0003051757...</td>\n",
       "      <td>22050</td>\n",
       "      <td>R</td>\n",
       "    </tr>\n",
       "  </tbody>\n",
       "</table>\n",
       "<p>800 rows × 4 columns</p>\n",
       "</div>"
      ],
      "text/plain": [
       "       audio_id                                          audio_arr  srate  \\\n",
       "0    LJ024-0106  [0.000244140625, -0.000213623046875, -0.000793...  22050   \n",
       "1    LJ024-0106  [0.00030517578125, -0.000152587890625, -0.0005...  22050   \n",
       "2    LJ024-0106  [0.000579833984375, 0.000701904296875, 6.10351...  22050   \n",
       "3    LJ024-0106  [-0.001983642578125, -0.00189208984375, -0.001...  22050   \n",
       "4    LJ024-0106  [6.103515625e-05, -0.00042724609375, 0.0003051...  22050   \n",
       "..          ...                                                ...    ...   \n",
       "795  LJ025-0062  [-0.001312255859375, -0.001251220703125, -0.00...  22050   \n",
       "796  LJ025-0062  [0.0, 9.1552734375e-05, 0.00042724609375, 0.00...  22050   \n",
       "797  LJ025-0062  [-0.003021240234375, -0.00238037109375, -0.003...  22050   \n",
       "798  LJ025-0062  [-0.0003662109375, -0.0003662109375, -0.000579...  22050   \n",
       "799  LJ025-0062  [0.0003662109375, 0.000244140625, 0.0003051757...  22050   \n",
       "\n",
       "    real_or_fake  \n",
       "0            WF1  \n",
       "1            WF2  \n",
       "2            WF3  \n",
       "3            WF4  \n",
       "4            WF5  \n",
       "..           ...  \n",
       "795          WF4  \n",
       "796          WF5  \n",
       "797          WF6  \n",
       "798          WF7  \n",
       "799            R  \n",
       "\n",
       "[800 rows x 4 columns]"
      ]
     },
     "execution_count": 8,
     "metadata": {},
     "output_type": "execute_result"
    }
   ],
   "source": [
    "partition_id = partitions[0]\n",
    "iterable_ds = load_parquet_data(partition_id=partition_id, dataset='wavefake')    \n",
    "partition_df = generate_dataframe(iterable_ds)\n",
    "partition_df"
   ]
  },
  {
   "cell_type": "code",
   "execution_count": null,
   "id": "bf04f96c-73e3-489f-811e-cecafe923667",
   "metadata": {},
   "outputs": [],
   "source": []
  },
  {
   "cell_type": "markdown",
   "id": "d503837a-753c-43b8-a21a-74eb87acc001",
   "metadata": {},
   "source": [
    "#### Extract Features - Sample 2 from each partitions\n",
    "\n",
    "just to make sure everything works fine"
   ]
  },
  {
   "cell_type": "code",
   "execution_count": 9,
   "id": "9632b89a-0dc0-42c1-a91b-766aeb9a3308",
   "metadata": {},
   "outputs": [],
   "source": [
    "audio_processor = LowLevelFeatureExtractor(target_sr=16000, include_only=['spectral', 'prosodic', 'voice_quality'])\n",
    "feature_computer = HighLevelFeatureExtractor()"
   ]
  },
  {
   "cell_type": "code",
   "execution_count": null,
   "id": "b0898255-9986-48f2-853a-8a6174a31885",
   "metadata": {},
   "outputs": [
    {
     "name": "stderr",
     "output_type": "stream",
     "text": [
      "Exception ignored from cffi callback <function SoundFile._init_virtual_io.<locals>.vio_read at 0xffff67583550>:\n",
      "Traceback (most recent call last):\n",
      "  File \"/usr/local/lib/python3.9/site-packages/soundfile.py\", line 1244, in vio_read\n",
      "    try:\n",
      "KeyboardInterrupt: \n"
     ]
    },
    {
     "name": "stdout",
     "output_type": "stream",
     "text": [
      "Partition: 0\n"
     ]
    },
    {
     "name": "stderr",
     "output_type": "stream",
     "text": [
      "Processing Audios:   0%|          | 0/2 [00:00<?, ?it/s]"
     ]
    }
   ],
   "source": [
    "features_df_list = []\n",
    "\n",
    "for partition_id in partitions[:20]:\n",
    "    iterable_ds = load_parquet_data(partition_id=partition_id, dataset='wavefake')    \n",
    "    partition_df = generate_dataframe(iterable_ds)\n",
    "    print(f'Partition: {partition_id}')\n",
    "    \n",
    "    low_level_gen        = audio_processor.low_level_feature_generator(partition_df.sample(2))\n",
    "    high_level_features  = list(feature_computer.high_level_feature_generator(low_level_gen))\n",
    "    high_level_features_df = pd.DataFrame(high_level_features)\n",
    "    features_df_list.append(high_level_features_df)\n",
    "    \n",
    "\n",
    "\n",
    "features_df = pd.concat(features_df_list, ignore_index=True)\n",
    "features_df"
   ]
  },
  {
   "cell_type": "markdown",
   "id": "980bdcda-6a3c-4d2c-a740-23a1151e87b0",
   "metadata": {},
   "source": [
    "### Using Parallel Processing to extract features for each partitions and save"
   ]
  },
  {
   "cell_type": "code",
   "execution_count": 9,
   "id": "a7d2ddc3-d1ad-49a1-8ac0-ee8e47852a4c",
   "metadata": {},
   "outputs": [],
   "source": [
    "def extract_features(row, audio_processor, feature_computer):\n",
    "    low_level_features = audio_processor.extract_features(row)\n",
    "    high_level_features = feature_computer.compute_high_level_features(low_level_features)\n",
    "    return high_level_features\n",
    "\n",
    "audio_processor  = LowLevelFeatureExtractor(target_sr=16000, include_only=['spectral', 'prosodic', 'voice_quality'])\n",
    "feature_computer = HighLevelFeatureExtractor()"
   ]
  },
  {
   "cell_type": "code",
   "execution_count": 10,
   "id": "4abeb426-7ebc-448f-b47d-a4022b16b41a",
   "metadata": {},
   "outputs": [
    {
     "name": "stderr",
     "output_type": "stream",
     "text": [
      "Processing Partitions:   6%|▋         | 2/32 [09:23<2:21:20, 282.68s/it]'(ReadTimeoutError(\"HTTPSConnectionPool(host='cdn-lfs-us-1.huggingface.co', port=443): Read timed out. (read timeout=10)\"), '(Request ID: 80900a24-e26d-43c9-aae8-d4aabc181ee3)')' thrown while requesting GET https://huggingface.co/datasets/ajaykarthick/wavefake-audio/resolve/main/data/partition69-00000-of-00001.parquet\n",
      "Retrying in 1s [Retry 1/5].\n",
      "'(ReadTimeoutError(\"HTTPSConnectionPool(host='huggingface.co', port=443): Read timed out. (read timeout=10)\"), '(Request ID: 5f4874ba-0864-487c-8e46-750dfbcd0590)')' thrown while requesting GET https://huggingface.co/datasets/ajaykarthick/wavefake-audio/resolve/main/data/partition69-00000-of-00001.parquet\n",
      "Retrying in 2s [Retry 2/5].\n",
      "Processing Partitions:  22%|██▏       | 7/32 [33:34<1:57:18, 281.56s/it]/app/src/features/stat_measures.py:33: RuntimeWarning: Precision loss occurred in moment calculation due to catastrophic cancellation. This occurs when the data are nearly identical. Results may be unreliable.\n",
      "  stats['skew'] = skew(feature_array)\n",
      "/app/src/features/stat_measures.py:37: RuntimeWarning: Precision loss occurred in moment calculation due to catastrophic cancellation. This occurs when the data are nearly identical. Results may be unreliable.\n",
      "  stats['kurtosis'] = kurtosis(feature_array)\n",
      "/app/src/features/stat_measures.py:33: RuntimeWarning: Precision loss occurred in moment calculation due to catastrophic cancellation. This occurs when the data are nearly identical. Results may be unreliable.\n",
      "  stats['skew'] = skew(feature_array)\n",
      "/app/src/features/stat_measures.py:37: RuntimeWarning: Precision loss occurred in moment calculation due to catastrophic cancellation. This occurs when the data are nearly identical. Results may be unreliable.\n",
      "  stats['kurtosis'] = kurtosis(feature_array)\n",
      "Processing Partitions:  47%|████▋     | 15/32 [1:19:48<1:39:51, 352.46s/it]/app/src/features/stat_measures.py:33: RuntimeWarning: Precision loss occurred in moment calculation due to catastrophic cancellation. This occurs when the data are nearly identical. Results may be unreliable.\n",
      "  stats['skew'] = skew(feature_array)\n",
      "/app/src/features/stat_measures.py:37: RuntimeWarning: Precision loss occurred in moment calculation due to catastrophic cancellation. This occurs when the data are nearly identical. Results may be unreliable.\n",
      "  stats['kurtosis'] = kurtosis(feature_array)\n",
      "/app/src/features/stat_measures.py:33: RuntimeWarning: Precision loss occurred in moment calculation due to catastrophic cancellation. This occurs when the data are nearly identical. Results may be unreliable.\n",
      "  stats['skew'] = skew(feature_array)\n",
      "/app/src/features/stat_measures.py:37: RuntimeWarning: Precision loss occurred in moment calculation due to catastrophic cancellation. This occurs when the data are nearly identical. Results may be unreliable.\n",
      "  stats['kurtosis'] = kurtosis(feature_array)\n",
      "/app/src/features/stat_measures.py:33: RuntimeWarning: Precision loss occurred in moment calculation due to catastrophic cancellation. This occurs when the data are nearly identical. Results may be unreliable.\n",
      "  stats['skew'] = skew(feature_array)\n",
      "/app/src/features/stat_measures.py:37: RuntimeWarning: Precision loss occurred in moment calculation due to catastrophic cancellation. This occurs when the data are nearly identical. Results may be unreliable.\n",
      "  stats['kurtosis'] = kurtosis(feature_array)\n",
      "Processing Partitions:  53%|█████▎    | 17/32 [1:47:11<2:17:40, 550.71s/it]/app/src/features/stat_measures.py:33: RuntimeWarning: Precision loss occurred in moment calculation due to catastrophic cancellation. This occurs when the data are nearly identical. Results may be unreliable.\n",
      "  stats['skew'] = skew(feature_array)\n",
      "/app/src/features/stat_measures.py:37: RuntimeWarning: Precision loss occurred in moment calculation due to catastrophic cancellation. This occurs when the data are nearly identical. Results may be unreliable.\n",
      "  stats['kurtosis'] = kurtosis(feature_array)\n",
      "/app/src/features/stat_measures.py:33: RuntimeWarning: Precision loss occurred in moment calculation due to catastrophic cancellation. This occurs when the data are nearly identical. Results may be unreliable.\n",
      "  stats['skew'] = skew(feature_array)\n",
      "/app/src/features/stat_measures.py:37: RuntimeWarning: Precision loss occurred in moment calculation due to catastrophic cancellation. This occurs when the data are nearly identical. Results may be unreliable.\n",
      "  stats['kurtosis'] = kurtosis(feature_array)\n",
      "/app/src/features/stat_measures.py:33: RuntimeWarning: Precision loss occurred in moment calculation due to catastrophic cancellation. This occurs when the data are nearly identical. Results may be unreliable.\n",
      "  stats['skew'] = skew(feature_array)\n",
      "/app/src/features/stat_measures.py:37: RuntimeWarning: Precision loss occurred in moment calculation due to catastrophic cancellation. This occurs when the data are nearly identical. Results may be unreliable.\n",
      "  stats['kurtosis'] = kurtosis(feature_array)\n",
      "/app/src/features/stat_measures.py:33: RuntimeWarning: Precision loss occurred in moment calculation due to catastrophic cancellation. This occurs when the data are nearly identical. Results may be unreliable.\n",
      "  stats['skew'] = skew(feature_array)\n",
      "/app/src/features/stat_measures.py:37: RuntimeWarning: Precision loss occurred in moment calculation due to catastrophic cancellation. This occurs when the data are nearly identical. Results may be unreliable.\n",
      "  stats['kurtosis'] = kurtosis(feature_array)\n",
      "Processing Partitions:  62%|██████▎   | 20/32 [2:05:38<1:26:28, 432.38s/it]/app/src/features/stat_measures.py:33: RuntimeWarning: Precision loss occurred in moment calculation due to catastrophic cancellation. This occurs when the data are nearly identical. Results may be unreliable.\n",
      "  stats['skew'] = skew(feature_array)\n",
      "/app/src/features/stat_measures.py:37: RuntimeWarning: Precision loss occurred in moment calculation due to catastrophic cancellation. This occurs when the data are nearly identical. Results may be unreliable.\n",
      "  stats['kurtosis'] = kurtosis(feature_array)\n",
      "Processing Partitions: 100%|██████████| 32/32 [3:31:26<00:00, 396.45s/it]  \n"
     ]
    }
   ],
   "source": [
    "for partition_id in tqdm(partitions, total=len(partitions), desc=\"Processing Partitions\"):\n",
    "    csv_file_name = os.path.join(features_dir, f'wavefake_features_partition_{partition_id}.csv')\n",
    "    iterable_ds = load_parquet_data(partition_id=partition_id, dataset='wavefake')    \n",
    "    partition_df = generate_dataframe(iterable_ds)\n",
    "    \n",
    "    high_level_features   = Parallel(n_jobs=5)(\n",
    "        delayed(extract_features)(row, audio_processor, feature_computer) \n",
    "        for _, row in partition_df.iterrows() # REMOVE .iloc[:10]\n",
    "    )\n",
    "    high_level_feature_df = pd.DataFrame(high_level_features)\n",
    "    high_level_feature_df.to_csv(csv_file_name, index=False)"
   ]
  },
  {
   "cell_type": "code",
   "execution_count": null,
   "id": "6e363bb9-4fc7-452f-80e8-115d126a4b6f",
   "metadata": {},
   "outputs": [],
   "source": []
  },
  {
   "cell_type": "code",
   "execution_count": null,
   "id": "a20934e6-0911-42e3-906f-4214e0f5e830",
   "metadata": {},
   "outputs": [],
   "source": []
  },
  {
   "cell_type": "code",
   "execution_count": null,
   "id": "57f66e5a-6757-4bf3-83cc-d2eac884c6e3",
   "metadata": {},
   "outputs": [],
   "source": []
  },
  {
   "cell_type": "code",
   "execution_count": null,
   "id": "97724fac-a480-457b-abd2-f3122153e9e6",
   "metadata": {},
   "outputs": [],
   "source": []
  },
  {
   "cell_type": "code",
   "execution_count": null,
   "id": "ee5d5554-59a7-457a-bd90-e7ae57282770",
   "metadata": {},
   "outputs": [],
   "source": []
  },
  {
   "cell_type": "code",
   "execution_count": null,
   "id": "e17efe18-b860-4836-9757-def1d95069d8",
   "metadata": {},
   "outputs": [],
   "source": []
  },
  {
   "cell_type": "code",
   "execution_count": null,
   "id": "fff46d64-6609-423f-85b4-caadc6ed3aee",
   "metadata": {},
   "outputs": [],
   "source": []
  },
  {
   "cell_type": "code",
   "execution_count": null,
   "id": "e1c07b6c-967c-4519-97a7-07961c93e9e5",
   "metadata": {},
   "outputs": [],
   "source": []
  }
 ],
 "metadata": {
  "kernelspec": {
   "display_name": "Python 3 (ipykernel)",
   "language": "python",
   "name": "python3"
  },
  "language_info": {
   "codemirror_mode": {
    "name": "ipython",
    "version": 3
   },
   "file_extension": ".py",
   "mimetype": "text/x-python",
   "name": "python",
   "nbconvert_exporter": "python",
   "pygments_lexer": "ipython3",
   "version": "3.9.19"
  }
 },
 "nbformat": 4,
 "nbformat_minor": 5
}
